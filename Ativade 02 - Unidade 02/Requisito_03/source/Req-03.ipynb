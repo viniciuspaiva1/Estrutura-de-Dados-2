{
 "cells": [
  {
   "cell_type": "code",
   "execution_count": 14,
   "metadata": {},
   "outputs": [],
   "source": [
    "import networkx as nx\n",
    "import networkx as nx"
   ]
  },
  {
   "cell_type": "code",
   "execution_count": 15,
   "metadata": {},
   "outputs": [],
   "source": [
    "def ler_grafo_de_arquivo(arquivo):\n",
    "    grafo = nx.Graph()\n",
    "    \n",
    "    with open(arquivo, 'r') as f:\n",
    "        for linha in f:\n",
    "            # Supõe que os nós estão separados por espaço na mesma linha\n",
    "            no1, no2 = linha.strip().split()\n",
    "            grafo.add_edge(int(no1), int(no2))\n",
    "    return grafo"
   ]
  },
  {
   "cell_type": "code",
   "execution_count": 16,
   "metadata": {},
   "outputs": [],
   "source": [
    "def descrever_grafo(grafo):\n",
    "    print(\"O grafo contém {} vértices e {} arestas\".format(grafo.number_of_nodes(),\n",
    "                                                     grafo.number_of_edges()))\n",
    "    print(\"O grau de assortatividade do grafo é de {}\".format(nx.degree_assortativity_coefficient(grafo)))\n",
    "    print(\"O grafo possui {} elementos conectados\".format(nx.number_connected_components(grafo)))\n",
    "    coeficiente_gigante = max(nx.connected_components(grafo), key = len)\n",
    "    print(\"O tamanho do coeficiente gigante é {}\".format(len(coeficiente_gigante)))\n",
    "    gcc = nx.average_clustering(grafo)\n",
    "    # Imprima o GCC\n",
    "    print(\"Coeficiente de Clusterização Global (GCC):\", gcc)\n",
    "    "
   ]
  },
  {
   "cell_type": "markdown",
   "metadata": {},
   "source": [
    "# Primeira análise\n",
    "## Rede: email-Eu-core"
   ]
  },
  {
   "cell_type": "code",
   "execution_count": 17,
   "metadata": {},
   "outputs": [
    {
     "name": "stdout",
     "output_type": "stream",
     "text": [
      "O grafo contém 1005 vértices e 16706 arestas\n",
      "O grau de assortatividade do grafo é de -0.010990490627931076\n",
      "O grafo possui 20 elementos conectados\n",
      "O tamanho do coeficiente gigante é 986\n",
      "Coeficiente de Clusterização Global (GCC): 0.3993549664221539\n"
     ]
    }
   ],
   "source": [
    "email_grafo = ler_grafo_de_arquivo('email-Eu-core.txt')\n",
    "descrever_grafo(email_grafo)"
   ]
  },
  {
   "cell_type": "markdown",
   "metadata": {},
   "source": [
    "# Segunda análise\n",
    "## Rede: p2pGnutella24"
   ]
  },
  {
   "cell_type": "code",
   "execution_count": 18,
   "metadata": {},
   "outputs": [
    {
     "name": "stdout",
     "output_type": "stream",
     "text": [
      "O grafo contém 26518 vértices e 65369 arestas\n",
      "O grau de assortatividade do grafo é de -0.00772826636376463\n",
      "O grafo possui 11 elementos conectados\n",
      "O tamanho do coeficiente gigante é 26498\n",
      "Coeficiente de Clusterização Global (GCC): 0.005502501232433069\n"
     ]
    }
   ],
   "source": [
    "p2p_grafo = ler_grafo_de_arquivo('p2p-Gnutella24.txt')\n",
    "descrever_grafo(p2p_grafo)"
   ]
  },
  {
   "cell_type": "markdown",
   "metadata": {},
   "source": [
    "# Terceira análise\n",
    "## Rede: facebook_combined"
   ]
  },
  {
   "cell_type": "code",
   "execution_count": 19,
   "metadata": {},
   "outputs": [
    {
     "name": "stdout",
     "output_type": "stream",
     "text": [
      "O grafo contém 4039 vértices e 88234 arestas\n",
      "O grau de assortatividade do grafo é de 0.06357722918564943\n",
      "O grafo possui 1 elementos conectados\n",
      "O tamanho do coeficiente gigante é 4039\n",
      "Coeficiente de Clusterização Global (GCC): 0.6055467186200876\n"
     ]
    }
   ],
   "source": [
    "facebook_grafo = ler_grafo_de_arquivo('facebook_combined.txt')\n",
    "descrever_grafo(facebook_grafo)"
   ]
  },
  {
   "cell_type": "markdown",
   "metadata": {},
   "source": [
    "# Quarta análise\n",
    "## Rede: Wiki-Vote"
   ]
  },
  {
   "cell_type": "code",
   "execution_count": 20,
   "metadata": {},
   "outputs": [
    {
     "name": "stdout",
     "output_type": "stream",
     "text": [
      "O grafo contém 7115 vértices e 100762 arestas\n",
      "O grau de assortatividade do grafo é de -0.0830524827001603\n",
      "O grafo possui 24 elementos conectados\n",
      "O tamanho do coeficiente gigante é 7066\n",
      "Coeficiente de Clusterização Global (GCC): 0.14089784589308738\n"
     ]
    }
   ],
   "source": [
    "wiki_grafo = ler_grafo_de_arquivo('Wiki-Vote.txt')\n",
    "descrever_grafo(wiki_grafo)"
   ]
  },
  {
   "cell_type": "markdown",
   "metadata": {},
   "source": [
    "# Quinta análise\n",
    "## Rede: Wiki-Rfa"
   ]
  },
  {
   "cell_type": "code",
   "execution_count": 21,
   "metadata": {},
   "outputs": [
    {
     "name": "stdout",
     "output_type": "stream",
     "text": [
      "O grafo contém 27770 vértices e 352324 arestas\n",
      "O grau de assortatividade do grafo é de -0.03030462195847781\n",
      "O grafo possui 143 elementos conectados\n",
      "O tamanho do coeficiente gigante é 27400\n",
      "Coeficiente de Clusterização Global (GCC): 0.31201949580622557\n"
     ]
    }
   ],
   "source": [
    "cit_grafo = ler_grafo_de_arquivo('Cit-HepTh.txt')\n",
    "descrever_grafo(cit_grafo)"
   ]
  },
  {
   "cell_type": "markdown",
   "metadata": {},
   "source": [
    "|   | Qtd vértices | Qtd arestas | degree assortativity coefficient | Qtd componente conectados | Tamanho do componente gigante | Coeficiente de Clustering |\n",
    "|---|--------------|-------------|----------------------------------|---------------------------|-----|---------------------------|\n",
    "| Rede 'email' | 1005 | 16706 | -0.0110 | 20 | 986 | 0.3993 |\n",
    "| Rede 'p2p' | 26518 | 65369 | -0.0077 | 11 | 26498 | 0.0055 |\n",
    "| Rede 'facebook' | 4039 | 88234 | 0.0636 | 1 | 4039 | 0.6055 |\n",
    "| Rede 'wiki' | 7115 | 100762 | -0.0831 | 24 | 7066 | 0.1409 |\n",
    "| Rede 'cit' | 27770 | 352324 | -0.0303 | 143 | 27400 | 0.3120 |"
   ]
  }
 ],
 "metadata": {
  "kernelspec": {
   "display_name": "Python 3",
   "language": "python",
   "name": "python3"
  },
  "language_info": {
   "codemirror_mode": {
    "name": "ipython",
    "version": 3
   },
   "file_extension": ".py",
   "mimetype": "text/x-python",
   "name": "python",
   "nbconvert_exporter": "python",
   "pygments_lexer": "ipython3",
   "version": "3.9.6"
  }
 },
 "nbformat": 4,
 "nbformat_minor": 2
}
