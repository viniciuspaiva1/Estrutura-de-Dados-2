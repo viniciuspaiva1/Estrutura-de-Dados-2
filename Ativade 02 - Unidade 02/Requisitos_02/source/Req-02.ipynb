{
 "cells": [
  {
   "cell_type": "code",
   "execution_count": 1,
   "metadata": {},
   "outputs": [
    {
     "name": "stderr",
     "output_type": "stream",
     "text": [
      "c:\\Users\\vinic\\AppData\\Local\\Programs\\Python\\Python39\\lib\\site-packages\\nxviz\\__init__.py:18: UserWarning: \n",
      "nxviz has a new API! Version 0.7.4 onwards, the old class-based API is being\n",
      "deprecated in favour of a new API focused on advancing a grammar of network\n",
      "graphics. If your plotting code depends on the old API, please consider\n",
      "pinning nxviz at version 0.7.4, as the new API will break your old code.\n",
      "\n",
      "To check out the new API, please head over to the docs at\n",
      "https://ericmjl.github.io/nxviz/ to learn more. We hope you enjoy using it!\n",
      "\n",
      "(This deprecation message will go away in version 1.0.)\n",
      "\n",
      "  warnings.warn(\n"
     ]
    }
   ],
   "source": [
    "import networkx as nx\n",
    "import matplotlib.pyplot as plt\n",
    "import numpy as np\n",
    "import networkx as nx\n",
    "import nxviz as nv\n",
    "import seaborn as sns"
   ]
  },
  {
   "cell_type": "code",
   "execution_count": 3,
   "metadata": {},
   "outputs": [],
   "source": [
    "def ler_grafo_de_arquivo(arquivo):\n",
    "    grafo = nx.Graph()\n",
    "    with open(arquivo, 'r') as f:\n",
    "        for linha in f:\n",
    "            # Supõe que os nós estão separados por espaço na mesma linha\n",
    "            no1, no2 = linha.strip().split()\n",
    "            grafo.add_edge(int(no1), int(no2))\n",
    "    return grafo"
   ]
  },
  {
   "cell_type": "code",
   "execution_count": null,
   "metadata": {},
   "outputs": [],
   "source": [
    "def plotar_grafo_sortatividade(grafo):\n",
    "    degree, avg_neigh_degree = zip(*nx.average_degree_connectivity(grafo).items())\n",
    "\n",
    "    # convert to list\n",
    "    degree = list(degree)\n",
    "    avg_neigh_degree = list(avg_neigh_degree)\n",
    "        \n",
    "\n",
    "    plt.style.use(\"fivethirtyeight\")\n",
    "    fig, ax = plt.subplots(1,1,figsize=(12,8))\n",
    "\n",
    "    sns.regplot(x=degree,y=avg_neigh_degree,ax=ax)\n",
    "\n",
    "    ax.set_xlabel(\"Node Degree\")\n",
    "    ax.set_ylabel(\"Average neigbhor degree\")\n",
    "    ax.set_xlim(0,65)\n",
    "\n",
    "    # Save figure\n",
    "    # plt.savefig(\"degree_assortativity.png\",\n",
    "    #             format=\"png\",\n",
    "    #             dpi=400,\n",
    "    #             bbox_inches=\"tight\",\n",
    "    #             transparent=True)\n",
    "\n",
    "    plt.show()"
   ]
  },
  {
   "cell_type": "code",
   "execution_count": null,
   "metadata": {},
   "outputs": [],
   "source": [
    "def subplotar_grafo_sortatividade(ax, grafo, title):\n",
    "    degree, avg_neigh_degree = zip(*nx.average_degree_connectivity(grafo).items())\n",
    "\n",
    "    # convert to list\n",
    "    degree = list(degree)\n",
    "    avg_neigh_degree = list(avg_neigh_degree)\n",
    "\n",
    "    # Usar sns.regplot para obter os dados do gráfico de dispersão\n",
    "    sns.regplot(x=degree, y=avg_neigh_degree, ax=ax, marker='o', scatter_kws={'s': 50})\n",
    "    \n",
    "    ax.set_xlabel(\"Grau do Nó\")\n",
    "    ax.set_ylabel(\"Grau Médio dos Vizinhos\")\n",
    "    ax.set_xlim(0, 65)\n",
    "    ax.set_title(title)  # Adicione um título \n"
   ]
  },
  {
   "cell_type": "markdown",
   "metadata": {},
   "source": [
    "# Primeira análise\n",
    "## Rede: email-Eu-core"
   ]
  },
  {
   "cell_type": "code",
   "execution_count": 4,
   "metadata": {},
   "outputs": [
    {
     "name": "stdout",
     "output_type": "stream",
     "text": [
      "The network has 1005 nodes and 16706 edges\n"
     ]
    }
   ],
   "source": [
    "email_grafo = ler_grafo_de_arquivo('email-Eu-core.txt')\n",
    "print(\"The network has {} nodes and {} edges\".format(email_grafo.number_of_nodes(),\n",
    "                                                     email_grafo.number_of_edges()))\n"
   ]
  },
  {
   "cell_type": "code",
   "execution_count": null,
   "metadata": {},
   "outputs": [],
   "source": [
    "plotar_grafo_sortatividade(email_grafo)"
   ]
  },
  {
   "cell_type": "markdown",
   "metadata": {},
   "source": [
    "# Segunda análise\n",
    "## Rede: p2pGnutella24"
   ]
  },
  {
   "cell_type": "code",
   "execution_count": null,
   "metadata": {},
   "outputs": [],
   "source": [
    "p2p_grafo = ler_grafo_de_arquivo('p2p-Gnutella24.txt')\n",
    "print(\"The network has {} nodes and {} edges\".format(p2p_grafo.number_of_nodes(),\n",
    "                                                     p2p_grafo.number_of_edges()))\n"
   ]
  },
  {
   "cell_type": "code",
   "execution_count": null,
   "metadata": {},
   "outputs": [],
   "source": [
    "plotar_grafo_sortatividade(p2p_grafo)"
   ]
  },
  {
   "cell_type": "markdown",
   "metadata": {},
   "source": [
    "# Terceira análise\n",
    "## Rede: facebook_combined"
   ]
  },
  {
   "cell_type": "code",
   "execution_count": null,
   "metadata": {},
   "outputs": [],
   "source": [
    "facebook_grafo = ler_grafo_de_arquivo('facebook_combined.txt')\n",
    "print(\"The network has {} nodes and {} edges\".format(facebook_grafo.number_of_nodes(),\n",
    "                                                     facebook_grafo.number_of_edges()))"
   ]
  },
  {
   "cell_type": "code",
   "execution_count": null,
   "metadata": {},
   "outputs": [],
   "source": [
    "plotar_grafo_sortatividade(facebook_grafo)"
   ]
  },
  {
   "cell_type": "markdown",
   "metadata": {},
   "source": [
    "# Quarta análise\n",
    "## Rede: Wiki-Vote"
   ]
  },
  {
   "cell_type": "code",
   "execution_count": null,
   "metadata": {},
   "outputs": [],
   "source": [
    "wiki_grafo = ler_grafo_de_arquivo('Wiki-Vote.txt')\n",
    "print(\"The network has {} nodes and {} edges\".format(wiki_grafo.number_of_nodes(),\n",
    "                                                     wiki_grafo.number_of_edges()))"
   ]
  },
  {
   "cell_type": "code",
   "execution_count": null,
   "metadata": {},
   "outputs": [],
   "source": [
    "plotar_grafo_sortatividade(wiki_grafo)"
   ]
  },
  {
   "cell_type": "markdown",
   "metadata": {},
   "source": [
    "# Quinta análise\n",
    "## Rede: Wiki-Rfa"
   ]
  },
  {
   "cell_type": "code",
   "execution_count": null,
   "metadata": {},
   "outputs": [],
   "source": [
    "cit_grafo = ler_grafo_de_arquivo('Cit-HepTh.txt')\n",
    "print(\"The network has {} nodes and {} edges\".format(cit_grafo.number_of_nodes(),\n",
    "                                                     cit_grafo.number_of_edges()))"
   ]
  },
  {
   "cell_type": "code",
   "execution_count": null,
   "metadata": {},
   "outputs": [],
   "source": [
    "plotar_grafo_sortatividade(cit_grafo)"
   ]
  },
  {
   "cell_type": "code",
   "execution_count": null,
   "metadata": {},
   "outputs": [],
   "source": [
    "grafos = [email_grafo, facebook_grafo, p2p_grafo, wiki_grafo, cit_grafo]\n",
    "titles = ['Email', 'Facebook', 'P2P', 'Wikipedia', 'Cit']\n",
    "fig, axs = plt.subplots(2, 3, figsize=(18, 10))\n",
    "\n",
    "# Iterar sobre os subplots e chamar a função para plotar o grafo em cada um\n",
    "for i in range(2):\n",
    "    for j in range(3):\n",
    "        if i * 3 + j < len(grafos):\n",
    "            subplotar_grafo_sortatividade(axs[i, j], grafos[i * 3 + j], titles[i*3 + j])\n",
    "        else:\n",
    "            axs[i, j].axis('off')\n",
    "\n",
    "# Ajustar o layout para evitar sobreposição de rótulos\n",
    "plt.tight_layout()\n",
    "\n",
    "# Exibir os gráficos\n",
    "plt.show()"
   ]
  }
 ],
 "metadata": {
  "kernelspec": {
   "display_name": "Python 3",
   "language": "python",
   "name": "python3"
  },
  "language_info": {
   "codemirror_mode": {
    "name": "ipython",
    "version": 3
   },
   "file_extension": ".py",
   "mimetype": "text/x-python",
   "name": "python",
   "nbconvert_exporter": "python",
   "pygments_lexer": "ipython3",
   "version": "3.9.6"
  }
 },
 "nbformat": 4,
 "nbformat_minor": 2
}
