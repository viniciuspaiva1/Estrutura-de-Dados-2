{
 "cells": [
  {
   "cell_type": "code",
   "execution_count": 1,
   "metadata": {},
   "outputs": [],
   "source": [
    "from operator import itemgetter\n",
    "import networkx as nx\n",
    "import wikipedia\n",
    "import matplotlib.pyplot as plt"
   ]
  },
  {
   "cell_type": "code",
   "execution_count": 4,
   "metadata": {},
   "outputs": [],
   "source": [
    "def graphBuilder(pageTitle):\n",
    "    SEED = pageTitle.title()\n",
    "    STOPS = (\"International Standard Serial Number\",\n",
    "            \"International Standard Book Number\",\n",
    "            \"National Diet Library\",\n",
    "            \"International Standard Name Identifier\",\n",
    "            \"International Standard Book Number (Identifier)\",\n",
    "            \"Pubmed Identifier\",\n",
    "            \"Pubmed Central\",\n",
    "            \"Digital Object Identifier\",\n",
    "            \"Arxiv\",\n",
    "            \"Proc Natl Acad Sci Usa\",\n",
    "            \"Bibcode\",\n",
    "            \"Library Of Congress Control Number\",\n",
    "            \"Jstor\",\n",
    "            \"Doi (Identifier)\",\n",
    "            \"Isbn (Identifier)\",\n",
    "            \"Pmid (Identifier)\",\n",
    "            \"Arxiv (Identifier)\",\n",
    "            \"Bibcode (Identifier)\")\n",
    "\n",
    "    todo_lst = [(0, SEED)]  # The SEED is in layer 0\n",
    "    todo_set = set(SEED)  # The SEED itself\n",
    "    done_set = set()  # Nothing is done yet\n",
    "\n",
    "    g = nx.DiGraph()\n",
    "    layer, page = todo_lst[0]\n",
    "\n",
    "    while layer < 2:\n",
    "        # Remove the name page of the current page from the todo_lst,\n",
    "        # and add it to the set of processed pages.\n",
    "        # If the script encounters this page again, it will skip over it.\n",
    "        del todo_lst[0]\n",
    "        done_set.add(page)\n",
    "\n",
    "        # Show progress\n",
    "        #print(layer, page)\n",
    "\n",
    "        # Attempt to download the selected page.\n",
    "        try:\n",
    "            wiki = wikipedia.page(page)  # Specify language as 'en' for English\n",
    "        except wikipedia.exceptions.DisambiguationError as e:\n",
    "            #print(f\"Ambiguous page: {page}. Skipping.\")\n",
    "            layer, page = todo_lst[0]\n",
    "            continue\n",
    "        except:\n",
    "            #print(\"Could not load\", page)\n",
    "            layer, page = todo_lst[0]\n",
    "            continue\n",
    "\n",
    "        for link in wiki.links:\n",
    "            link = link.title()\n",
    "            if link not in STOPS and not link.startswith(\"List Of\"):\n",
    "                if link not in todo_set and link not in done_set:\n",
    "                    todo_lst.append((layer + 1, link))\n",
    "                    todo_set.add(link)\n",
    "                g.add_edge(page, link)\n",
    "        layer, page = todo_lst[0]\n",
    "\n",
    "    print(\"{} nodes, {} edges\".format(len(g), nx.number_of_edges(g)))\n",
    "    return g"
   ]
  },
  {
   "cell_type": "code",
   "execution_count": 5,
   "metadata": {},
   "outputs": [
    {
     "name": "stdout",
     "output_type": "stream",
     "text": [
      "5347 nodes, 6376 edges\n"
     ]
    }
   ],
   "source": [
    "graphAlbion = graphBuilder(\"Albion Online\")"
   ]
  },
  {
   "cell_type": "code",
   "execution_count": 6,
   "metadata": {},
   "outputs": [
    {
     "name": "stdout",
     "output_type": "stream",
     "text": [
      "16105 nodes, 20924 edges\n"
     ]
    }
   ],
   "source": [
    "graphOutlast = graphBuilder(\"Outlast 2\")"
   ]
  },
  {
   "cell_type": "code",
   "execution_count": 7,
   "metadata": {},
   "outputs": [
    {
     "name": "stdout",
     "output_type": "stream",
     "text": [
      "15382 nodes, 22194 edges\n"
     ]
    }
   ],
   "source": [
    "graphAge = graphBuilder(\"Alan Wake 2\")"
   ]
  },
  {
   "cell_type": "code",
   "execution_count": 8,
   "metadata": {},
   "outputs": [
    {
     "name": "stdout",
     "output_type": "stream",
     "text": [
      "11554 nodes, 17158 edges\n"
     ]
    }
   ],
   "source": [
    "graphCities = graphBuilder(\"Cities: Skylines II\")"
   ]
  },
  {
   "cell_type": "code",
   "execution_count": 9,
   "metadata": {},
   "outputs": [
    {
     "name": "stdout",
     "output_type": "stream",
     "text": [
      "34700 nodes, 54734 edges\n"
     ]
    }
   ],
   "source": [
    "composeAlbionOutlast = nx.compose(graphAlbion, graphOutlast)\n",
    "composeAgeCities = nx.compose(graphAge, graphCities)\n",
    "\n",
    "composeAll = nx.compose(composeAlbionOutlast, composeAgeCities)\n",
    "\n",
    "print(\"{} nodes, {} edges\".format(len(composeAll), nx.number_of_edges(composeAll)))"
   ]
  },
  {
   "cell_type": "code",
   "execution_count": 10,
   "metadata": {},
   "outputs": [],
   "source": [
    "original = composeAll.copy()"
   ]
  },
  {
   "cell_type": "code",
   "execution_count": 11,
   "metadata": {},
   "outputs": [
    {
     "name": "stdout",
     "output_type": "stream",
     "text": [
      "[('Video Game Genre', 'Video Game Genres'), ('Video Game Publisher', 'Video Game Publishers'), ('Bicycle', 'Bicycles'), ('Mobile App', 'Mobile Apps'), ('Personal Computer', 'Personal Computers'), ('Racing Game', 'Racing Games'), ('Smartphone', 'Smartphones'), ('Tablet Computer', 'Tablet Computers'), ('Video Game Console', 'Video Game Consoles'), ('Information System', 'Information Systems'), ('Operating System', 'Operating Systems'), ('Video Game', 'Video Games'), ('Demon', 'Demons'), ('Gremlin', 'Gremlins'), ('Horror Film', 'Horror Films'), ('Metaphor', 'Metaphors'), ('Protagonist', 'Protagonists'), ('Pulp Magazine', 'Pulp Magazines'), ('Sequel', 'Sequels'), ('World Fantasy Award', 'World Fantasy Awards'), ('Downloadable Content', 'Downloadable Contents'), ('Experience Point', 'Experience Points'), ('Micropayment', 'Micropayments'), ('Microtransaction', 'Microtransactions'), ('Mobile Game', 'Mobile Games'), ('Action-Adventure Game', 'Action-Adventure Games'), ('Action Role-Playing Game', 'Action Role-Playing Games'), ('Arcade Game', 'Arcade Games'), ('City-Building Game', 'City-Building Games'), ('Console Game', 'Console Games'), ('Fighting Game', 'Fighting Games'), ('First-Person Shooter', 'First-Person Shooters'), ('Indie Game', 'Indie Games'), ('Life Simulation Game', 'Life Simulation Games'), ('Online Game', 'Online Games'), ('Pc Game', 'Pc Games'), ('Platformer', 'Platformers'), ('Player Character', 'Player Characters'), ('Rail Shooter', 'Rail Shooters'), ('Shooter Game', 'Shooter Games'), ('Third-Person Shooter', 'Third-Person Shooters'), ('Visual Novel', 'Visual Novels'), ('Dome', 'Domes'), ('Flagellant', 'Flagellants'), ('Grave Good', 'Grave Goods'), ('Muslim', 'Muslims'), ('Partnership', 'Partnerships'), ('Window', 'Windows'), ('Workstation', 'Workstations'), ('Instance Dungeon', 'Instance Dungeons'), ('Millisecond', 'Milliseconds'), ('Mobile Phone', 'Mobile Phones'), ('Griefer', 'Griefers'), ('Non-Playable Character', 'Non-Playable Characters'), ('Game Engine', 'Game Engines'), ('Home Computer', 'Home Computers'), ('Royalty Payment', 'Royalty Payments'), ('Platform Game', 'Platform Games'), ('Dream', 'Dreams'), ('Inhalational Anesthetic', 'Inhalational Anesthetics'), ('Local Anesthetic', 'Local Anesthetics'), ('Narcotic', 'Narcotics'), ('Nurse Anesthetist', 'Nurse Anesthetists'), ('Operating Department Practitioner', 'Operating Department Practitioners'), ('Ancient Greek', 'Ancient Greeks'), ('Early Christian', 'Early Christians'), ('American Comic Book', 'American Comic Books'), ('Viking', 'Vikings'), ('Marseille', 'Marseilles'), ('Neanderthal', 'Neanderthals'), ('Sociolinguistic', 'Sociolinguistics'), ('World Heritage Site', 'World Heritage Sites'), ('Nightmare', 'Nightmares'), ('Light Gun', 'Light Guns'), ('Canal', 'Canals'), ('Cereal', 'Cereals'), ('Natural Resource', 'Natural Resources'), ('Transformer', 'Transformers'), ('Tunnel', 'Tunnels'), ('Arcade System Board', 'Arcade System Boards'), ('Computer', 'Computers'), ('Electronic Game', 'Electronic Games'), ('Graphics Card', 'Graphics Cards'), ('Sound Chip', 'Sound Chips'), ('Fourteener', 'Fourteeners'), ('Night Terror', 'Night Terrors'), ('Webby Award', 'Webby Awards'), ('Dna', 'Dnas'), ('Molecular Machine', 'Molecular Machines'), ('Nanomotor', 'Nanomotors'), ('Euro', 'Euros'), ('Gamer', 'Gamers'), ('Super Bowl Commercial', 'Super Bowl Commercials'), ('Militia', 'Militias'), ('Mobile Device', 'Mobile Devices'), ('Polygon', 'Polygons'), ('Eating Disorder', 'Eating Disorders'), ('Patient', 'Patients'), ('Prison', 'Prisons'), ('Antipsychotic', 'Antipsychotics'), ('Cluster A Personality Disorder', 'Cluster A Personality Disorders'), ('Defence Mechanism', 'Defence Mechanisms'), ('Psychodynamic', 'Psychodynamics'), ('Mental Disorder', 'Mental Disorders'), ('Numbers Station', 'Numbers Stations'), ('Optical Communication', 'Optical Communications'), ('Semiconductor Device', 'Semiconductor Devices'), ('Telephone Exchange', 'Telephone Exchanges'), ('Wavelength', 'Wavelengths'), ('Academic Degree', 'Academic Degrees'), ('Guinness World Record', 'Guinness World Records'), ('Ninja', 'Ninjas'), ('Non-Disclosure Agreement', 'Non-Disclosure Agreements'), ('Rootkit', 'Rootkits'), ('Steam Trading Card', 'Steam Trading Cards'), ('Good', 'Goods'), ('Golden Joystick Award', 'Golden Joystick Awards'), ('Grammy Award', 'Grammy Awards'), ('Slide Projector', 'Slide Projectors'), ('Balkan', 'Balkans'), ('Continent', 'Continents'), ('Latitude', 'Latitudes'), ('Aztec', 'Aztecs'), ('Youtuber', 'Youtubers'), ('Academy Award', 'Academy Awards'), ('Emmy Award', 'Emmy Awards'), ('Golden Globe Award', 'Golden Globe Awards'), ('Fall Guy', 'Fall Guys'), ('Special Agent', 'Special Agents'), ('Automobile', 'Automobiles'), ('Middle Name', 'Middle Names'), ('Naming Convention', 'Naming Conventions'), ('Nickname', 'Nicknames'), ('Onomastic', 'Onomastics'), ('Pen Name', 'Pen Names'), ('Proto-Indo-European', 'Proto-Indo-Europeans'), ('Title', 'Titles'), ('Laptop', 'Laptops'), ('Guardian Student Media Award', 'Guardian Student Media Awards'), ('Whistleblower', 'Whistleblowers'), ('Cell Phone', 'Cell Phones'), ('Architectural Style', 'Architectural Styles'), ('Chimney', 'Chimneys'), ('Eave', 'Eaves'), ('Muntin', 'Muntins'), ('Economic', 'Economics'), ('Skyscraper', 'Skyscrapers'), ('Road', 'Roads'), ('Fossil Fuel', 'Fossil Fuels'), ('Early Mainframe Game', 'Early Mainframe Games'), ('Corporation', 'Corporations'), ('Financial Instrument', 'Financial Instruments'), ('Macroeconomic', 'Macroeconomics'), ('Market Failure', 'Market Failures'), ('Microeconomic', 'Microeconomics'), ('Microfoundation', 'Microfoundations'), ('Grand Strategy Game', 'Grand Strategy Games'), ('Internet Forum', 'Internet Forums'), ('Telecommunication', 'Telecommunications'), ('Armed Force', 'Armed Forces'), ('Freight Train', 'Freight Trains'), ('Incoterm', 'Incoterms'), ('Internal Combustion Engine', 'Internal Combustion Engines'), ('Pack Animal', 'Pack Animals'), ('Pedestrian', 'Pedestrians'), ('Pneumatic Tube', 'Pneumatic Tubes'), ('Railroad', 'Railroads'), ('Steam Ship', 'Steam Ships'), ('Audio Cd', 'Audio Cds')]\n"
     ]
    }
   ],
   "source": [
    "composeAll.remove_edges_from(nx.selfloop_edges(composeAll))\n",
    "\n",
    "# identify duplicates like that: 'network' and 'networks'\n",
    "duplicates = [(node, node + \"s\")\n",
    "              for node in composeAll if node + \"s\" in composeAll]\n",
    "\n",
    "for dup in duplicates:\n",
    "  # *dup is a technique named 'unpacking'\n",
    "  composeAll = nx.contracted_nodes(composeAll, *dup, self_loops=False)\n",
    "\n",
    "print(duplicates)"
   ]
  },
  {
   "cell_type": "code",
   "execution_count": 12,
   "metadata": {},
   "outputs": [
    {
     "name": "stdout",
     "output_type": "stream",
     "text": [
      "[('In-Car Entertainment', 'In Car Entertainment'), ('Long-Term Support', 'Long Term Support'), ('Open-Source Software', 'Open Source Software'), ('Random-Access Memory', 'Random Access Memory'), ('Xda-Developers', 'Xda Developers'), ('Tech-Noir', 'Tech Noir'), ('Pay-To-Play', 'Pay To Play'), ('Action-Adventure Game', 'Action Adventure Game'), ('Free-To-Play', 'Free To Play'), ('Full-Motion Video', 'Full Motion Video'), ('Real-Time Strategy', 'Real Time Strategy'), ('Science-Fiction', 'Science Fiction'), ('Single-Player Video Game', 'Single Player Video Game'), ('User-Generated Content', 'User Generated Content'), ('Free And Open-Source', 'Free And Open Source'), ('Anza-Borrego Desert State Park', 'Anza Borrego Desert State Park'), ('Hack-And-Slash', 'Hack And Slash'), ('Open-World', 'Open World'), ('Depth-Of-Field', 'Depth Of Field'), ('Solid-State Drive', 'Solid State Drive'), ('Source-Code', 'Source Code'), ('Video-Game Industry', 'Video Game Industry'), ('Night-Vision Device', 'Night Vision Device'), ('Liquid-Crystal Display', 'Liquid Crystal Display'), ('Local-Area Network', 'Local Area Network'), ('Privately-Held Company', 'Privately Held Company'), ('Cognitive-Behavioral Therapy', 'Cognitive Behavioral Therapy'), ('Decision-Making', 'Decision Making'), ('Self-Sacrifice', 'Self Sacrifice'), ('Near-Infrared', 'Near Infrared'), ('Ultra-High Frequency', 'Ultra High Frequency'), ('Very-High Frequency', 'Very High Frequency'), ('Newcastle-Upon-Tyne', 'Newcastle Upon Tyne'), ('Social-Network Game', 'Social Network Game'), ('End-User License Agreement', 'End User License Agreement'), ('Vice-President', 'Vice President'), ('Ballot-Stuffing', 'Ballot Stuffing'), ('Third-Party Developer', 'Third Party Developer'), ('Night-Vision Goggles', 'Night Vision Goggles'), ('Real Business-Cycle Theory', 'Real Business Cycle Theory'), ('Hd-Dvd', 'Hd Dvd')]\n"
     ]
    }
   ],
   "source": [
    "duplicates = [(x, y) for x, y in\n",
    "              [(node, node.replace(\"-\", \" \")) for node in composeAll]\n",
    "                if x != y and y in composeAll]\n",
    "print(duplicates)\n"
   ]
  },
  {
   "cell_type": "code",
   "execution_count": 13,
   "metadata": {},
   "outputs": [
    {
     "name": "stdout",
     "output_type": "stream",
     "text": [
      "34490 nodes, 54565 edges\n"
     ]
    }
   ],
   "source": [
    "for dup in duplicates:\n",
    "  composeAll = nx.contracted_nodes(composeAll, *dup, self_loops=False)\n",
    "\n",
    "# nx.contracted creates a new node/edge attribute called contraction\n",
    "# the value of the attribute is a dictionary, but GraphML\n",
    "# does not support dictionary attributes\n",
    "nx.set_node_attributes(composeAll, 0,\"contraction\")\n",
    "nx.set_edge_attributes(composeAll, 0,\"contraction\")\n",
    "     \n",
    "\n",
    "print(\"{} nodes, {} edges\".format(len(composeAll), nx.number_of_edges(composeAll)))"
   ]
  },
  {
   "cell_type": "code",
   "execution_count": 14,
   "metadata": {},
   "outputs": [
    {
     "data": {
      "image/png": "[encoded data removed]",
      "text/plain": [
       "<Figure size 800x400 with 2 Axes>"
      ]
     },
     "metadata": {},
     "output_type": "display_data"
    },
    {
     "name": "stdout",
     "output_type": "stream",
     "text": [
      "8092 nodes, 28167 edges\n",
      "Nodes removed: 75.17%\n",
      "Edges removed: 40.57%\n",
      "Edges per nodes: 4.03\n",
      "65 Ign\n",
      "61 Eurogamer\n",
      "61 Wayback Machine\n",
      "59 Gamespot\n",
      "57 Issn (Identifier)\n",
      "55 Polygon (Website)\n",
      "53 Video Game\n",
      "49 Pc Gamer\n",
      "45 Kotaku\n",
      "42 S2Cid (Identifier)\n",
      "42 Metacritic\n",
      "40 Game Informer\n",
      "37 Vg247\n",
      "36 Gamasutra\n",
      "35 Pcgamesn\n",
      "35 Video Game Developer\n",
      "35 Video Game Console\n",
      "35 Xbox One\n",
      "35 Gamesindustry.Biz\n",
      "34 Video Game Publisher\n",
      "33 Video Game Genre\n",
      "33 Video-Game Industry\n",
      "33 Ars Technica\n",
      "32 The New York Times\n",
      "32 The Guardian\n",
      "31 Microsoft Windows\n",
      "31 Oclc (Identifier)\n",
      "31 Destructoid\n",
      "30 Playstation 5\n",
      "29 Playstation 4\n",
      "29 Nintendo Switch\n",
      "29 Nintendo\n",
      "29 Engadget\n",
      "28 Edge (Magazine)\n",
      "27 The Verge\n",
      "27 Game Engine\n",
      "26 Android (Operating System)\n",
      "26 Video Game Journalism\n",
      "26 Gamesradar+\n",
      "26 Computing Platform\n",
      "26 Downloadable Content\n",
      "25 Rock, Paper, Shotgun\n",
      "25 Electronic Arts\n",
      "25 Variety (Magazine)\n",
      "24 Shacknews\n",
      "24 Giant Bomb\n",
      "24 Famitsu\n",
      "23 Cloud Gaming\n",
      "23 Gamepro\n",
      "23 Twitter\n",
      "23 United States\n",
      "23 Ios\n",
      "23 Microsoft\n",
      "23 Xbox 360\n",
      "23 Personal Computer\n",
      "23 Linux\n",
      "22 Wired (Magazine)\n",
      "22 Future Plc\n",
      "22 Pc Game\n",
      "22 Youtube\n",
      "22 Role-Playing Video Game\n",
      "22 Xbox Series X And Series S\n",
      "21 Sony\n",
      "21 Remedy Entertainment\n",
      "21 Europe\n",
      "21 Sega\n",
      "21 Console Game\n",
      "21 Control (Video Game)\n",
      "21 Free-To-Play\n",
      "21 Electronic Gaming Monthly\n",
      "21 Official U.S. Playstation Magazine\n",
      "21 Official Xbox Magazine\n",
      "20 Multiplayer Video Game\n",
      "20 Playstation 3\n",
      "20 Jstor (Identifier)\n",
      "20 Review Aggregator\n",
      "20 Playstation Official Magazine – Uk\n",
      "20 Indie Game\n",
      "20 Single-Player Video Game\n",
      "20 North America\n",
      "20 Playstation Official Magazine – Australia\n",
      "20 Gamer Network\n",
      "20 Window\n",
      "20 Playstation: The Official Magazine\n",
      "20 Computer Gaming World\n",
      "20 Xbox (Console)\n",
      "20 Retro Gamer\n",
      "19 Open-World\n",
      "19 Aaa (Video Game Industry)\n",
      "19 Virtual Reality\n",
      "19 Venture Beat\n",
      "18 Alan Wake\n",
      "18 Arcade Video Game\n",
      "18 Gamerankings\n",
      "18 Wii\n",
      "18 Gamerevolution\n",
      "18 Computer And Video Games\n",
      "18 Venturebeat\n",
      "18 Pocket Gamer\n",
      "18 Cbs Interactive\n"
     ]
    }
   ],
   "source": [
    "plt.style.use(\"default\")\n",
    "# degree sequence\n",
    "degree_sequence = sorted([d for n, d in composeAll.degree()], reverse=True)\n",
    "\n",
    "fig, ax = plt.subplots(1,2,figsize=(8,4))\n",
    "\n",
    "# all_data has information about degree_sequence and the width of each bin\n",
    "ax[0].hist(degree_sequence)\n",
    "ax[1].hist(degree_sequence,bins=[1,2,3,4,5,6,7,8,9,10])\n",
    "\n",
    "ax[0].set_title(\"Degree Histogram\")\n",
    "ax[0].set_ylabel(\"Count\")\n",
    "ax[0].set_xlabel(\"Degree\")\n",
    "ax[0].set_ylim(0,15000)\n",
    "\n",
    "ax[1].set_title(\"Degree Histogram - Zoom\")\n",
    "ax[1].set_ylabel(\"Count\")\n",
    "ax[1].set_xlabel(\"Degree\")\n",
    "ax[1].set_xlim(0,10)\n",
    "ax[1].set_ylim(0,15000)\n",
    "\n",
    "plt.tight_layout()\n",
    "plt.show()\n",
    "     \n",
    "\n",
    "# filter nodes with degree greater than or equal to 2\n",
    "core = [node for node, deg in dict(composeAll.degree()).items() if deg >= 2]\n",
    "\n",
    "# select a subgraph with 'core' nodes\n",
    "gsub = nx.subgraph(composeAll, core)\n",
    "\n",
    "print(\"{} nodes, {} edges\".format(len(gsub), nx.number_of_edges(gsub)))\n",
    "\n",
    "nx.write_graphml(gsub, \"cna.graphml\")\n",
    "     \n",
    "\n",
    "print(\"Nodes removed: {:.2f}%\".format(100*(1 - 3420/13775)))\n",
    "print(\"Edges removed: {:.2f}%\".format(100*(1 - 14771/24856)))\n",
    "print(\"Edges per nodes: {:.2f}\".format(13775/3420))\n",
    "\n",
    "top_indegree = sorted(dict(gsub.in_degree()).items(),\n",
    "                      reverse=True, key=itemgetter(1))[:100]\n",
    "print(\"\\n\".join(map(lambda t: \"{} {}\".format(*reversed(t)), top_indegree)))"
   ]
  }
 ],
 "metadata": {
  "kernelspec": {
   "display_name": "Python 3",
   "language": "python",
   "name": "python3"
  },
  "language_info": {
   "codemirror_mode": {
    "name": "ipython",
    "version": 3
   },
   "file_extension": ".py",
   "mimetype": "text/x-python",
   "name": "python",
   "nbconvert_exporter": "python",
   "pygments_lexer": "ipython3",
   "version": "3.9.6"
  }
 },
 "nbformat": 4,
 "nbformat_minor": 2
}
